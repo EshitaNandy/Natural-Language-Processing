{
 "cells": [
  {
   "cell_type": "code",
   "execution_count": 1,
   "metadata": {},
   "outputs": [],
   "source": [
    "import nltk"
   ]
  },
  {
   "cell_type": "code",
   "execution_count": 2,
   "metadata": {},
   "outputs": [],
   "source": [
    "paragraph =  \"\"\"Natural language processing (NLP) is a subfield of linguistics, computer science, information engineering, and artificial intelligence concerned with the interactions between computers and human (natural) languages, in particular how to program computers to process and analyze large amounts of natural language data.\n",
    "                Challenges in natural language processing frequently involve speech recognition, natural language understanding, and natural-language generation. NLP is used as a method of personal development through promoting skills, such as self-reflection, confidence, and communication. Practitioners have applied NLP commercially to achieve work-orientated goals, such as improved productivity or job progression.\n",
    "                Neuro-linguistic programming (NLP) is a pseudoscientific approach to communication, personal development, and psychotherapy created by Richard Bandler and John Grinder in California, United States, in the 1970s.\n",
    "                What are the techniques of NLP?\n",
    "                To understand this better, we list 5 techniques among the many NLP techniques you can use to elevate your coaching practice.\n",
    "                1.Anchoring. This NLP technique is useful to regenerate a resourceful emotion. ...\n",
    "                2.Belief Change. ...\n",
    "                3.Mirroring and Rapport. ...\n",
    "                4.Reframing Thoughts. ...\n",
    "                5.Creative Visualization (Meditation, Hypnosis)\n",
    "                In simple terms, NLP represents the automatic handling of natural human language like speech or text, and although the concept itself is fascinating, the real value behind this technology comes from the use cases.\n",
    "                NLP can help you with lots of tasks and the fields of application just seem to increase on a daily basis. Let’s mention some examples:\n",
    "                NLP enables the recognition and prediction of diseases based on electronic health records and patient’s own speech. This capability is being explored in health conditions that go from cardiovascular diseases to depression and even schizophrenia. For example, Amazon Comprehend Medical is a service that uses NLP to extract disease conditions, medications and treatment outcomes from patient notes, clinical trial reports and other electronic health records.\n",
    "                Organizations can determine what customers are saying about a service or product by identifying and extracting information in sources like social media. This sentiment analysis can provide a lot of information about customers choices and their decision drivers.\n",
    "                An inventor at IBM developed a cognitive assistant that works like a personalized search engine by learning all about you and then remind you of a name, a song, or anything you can’t remember the moment you need it to.\n",
    "                Companies like Yahoo and Google filter and classify your emails with NLP by analyzing text in emails that flow through their servers and stopping spam before they even enter your inbox.\n",
    "                To help identifying fake news, the NLP Group at MIT developed a new system to determine if a source is accurate or politically biased, detecting if a news source can be trusted or not.\n",
    "                Amazon’s Alexa and Apple’s Siri are examples of intelligent voice driven interfaces that use NLP to respond to vocal prompts and do everything like find a particular shop, tell us the weather forecast, suggest the best route to the office or turn on the lights at home.\n",
    "                Having an insight into what is happening and what people are talking about can be very valuable to financial traders. NLP is being used to track news, reports, comments about possible mergers between companies, everything can be then incorporated into a trading algorithm to generate massive profits. Remember: buy the rumor, sell the news.\n",
    "                NLP is also being used in both the search and selection phases of talent recruitment, identifying the skills of potential hires and also spotting prospects before they become active on the job market.\n",
    "                Powered by IBM Watson NLP technology, LegalMation developed a platform to automate routine litigation tasks and help legal teams save time, drive down costs and shift strategic focus.\"\"\""
   ]
  },
  {
   "cell_type": "code",
   "execution_count": 3,
   "metadata": {},
   "outputs": [],
   "source": [
    "# Cleaning the texts\n",
    "import re\n",
    "from nltk.corpus import stopwords\n",
    "from nltk.stem.porter import PorterStemmer\n",
    "from nltk.stem import WordNetLemmatizer\n",
    "\n",
    "ps = PorterStemmer()\n",
    "wordnet=WordNetLemmatizer()\n",
    "sentences = nltk.sent_tokenize(paragraph)\n",
    "corpus = []\n",
    "for i in range(len(sentences)):\n",
    "    review = re.sub('[^a-zA-Z]', ' ', sentences[i])\n",
    "    review = review.lower()\n",
    "    review = review.split()\n",
    "    review = [ps.stem(word) for word in review if not word in set(stopwords.words('english'))]\n",
    "    review = ' '.join(review)\n",
    "    corpus.append(review)"
   ]
  },
  {
   "cell_type": "code",
   "execution_count": 7,
   "metadata": {},
   "outputs": [
    {
     "name": "stdout",
     "output_type": "stream",
     "text": [
      "['natur languag process nlp subfield linguist comput scienc inform engin artifici intellig concern interact comput human natur languag particular program comput process analyz larg amount natur languag data', 'challeng natur languag process frequent involv speech recognit natur languag understand natur languag gener', 'nlp use method person develop promot skill self reflect confid commun', 'practition appli nlp commerci achiev work orient goal improv product job progress', 'neuro linguist program nlp pseudoscientif approach commun person develop psychotherapi creat richard bandler john grinder california unit state', 'techniqu nlp', 'understand better list techniqu among mani nlp techniqu use elev coach practic', 'anchor', 'nlp techniqu use regener resourc emot', 'belief chang', 'mirror rapport', 'refram thought', 'creativ visual medit hypnosi simpl term nlp repres automat handl natur human languag like speech text although concept fascin real valu behind technolog come use case', 'nlp help lot task field applic seem increas daili basi', 'let mention exampl nlp enabl recognit predict diseas base electron health record patient speech', 'capabl explor health condit go cardiovascular diseas depress even schizophrenia', 'exampl amazon comprehend medic servic use nlp extract diseas condit medic treatment outcom patient note clinic trial report electron health record', 'organ determin custom say servic product identifi extract inform sourc like social media', 'sentiment analysi provid lot inform custom choic decis driver', 'inventor ibm develop cognit assist work like person search engin learn remind name song anyth rememb moment need', 'compani like yahoo googl filter classifi email nlp analyz text email flow server stop spam even enter inbox', 'help identifi fake news nlp group mit develop new system determin sourc accur polit bias detect news sourc trust', 'amazon alexa appl siri exampl intellig voic driven interfac use nlp respond vocal prompt everyth like find particular shop tell us weather forecast suggest best rout offic turn light home', 'insight happen peopl talk valuabl financi trader', 'nlp use track news report comment possibl merger compani everyth incorpor trade algorithm gener massiv profit', 'rememb buy rumor sell news', 'nlp also use search select phase talent recruit identifi skill potenti hire also spot prospect becom activ job market', 'power ibm watson nlp technolog legalm develop platform autom routin litig task help legal team save time drive cost shift strateg focu']\n"
     ]
    }
   ],
   "source": [
    "print(corpus)"
   ]
  },
  {
   "cell_type": "code",
   "execution_count": 4,
   "metadata": {},
   "outputs": [],
   "source": [
    "# Creating the Bag of Words model\n",
    "from sklearn.feature_extraction.text import CountVectorizer\n",
    "cv = CountVectorizer(max_features = 1500)\n",
    "X = cv.fit_transform(corpus).toarray()"
   ]
  },
  {
   "cell_type": "code",
   "execution_count": 5,
   "metadata": {},
   "outputs": [
    {
     "name": "stdout",
     "output_type": "stream",
     "text": [
      "CountVectorizer(analyzer='word', binary=False, decode_error='strict',\n",
      "                dtype=<class 'numpy.int64'>, encoding='utf-8', input='content',\n",
      "                lowercase=True, max_df=1.0, max_features=1500, min_df=1,\n",
      "                ngram_range=(1, 1), preprocessor=None, stop_words=None,\n",
      "                strip_accents=None, token_pattern='(?u)\\\\b\\\\w\\\\w+\\\\b',\n",
      "                tokenizer=None, vocabulary=None)\n"
     ]
    }
   ],
   "source": [
    "print(cv)"
   ]
  },
  {
   "cell_type": "code",
   "execution_count": 6,
   "metadata": {},
   "outputs": [
    {
     "name": "stdout",
     "output_type": "stream",
     "text": [
      "[[0 0 0 ... 0 0 0]\n",
      " [0 0 0 ... 0 0 0]\n",
      " [0 0 0 ... 0 0 0]\n",
      " ...\n",
      " [0 0 0 ... 0 0 0]\n",
      " [0 0 1 ... 0 0 0]\n",
      " [0 0 0 ... 0 0 0]]\n"
     ]
    }
   ],
   "source": [
    "print(X)"
   ]
  },
  {
   "cell_type": "code",
   "execution_count": 14,
   "metadata": {},
   "outputs": [
    {
     "data": {
      "text/plain": [
       "(28, 258)"
      ]
     },
     "execution_count": 14,
     "metadata": {},
     "output_type": "execute_result"
    }
   ],
   "source": [
    "X.shape"
   ]
  }
 ],
 "metadata": {
  "kernelspec": {
   "display_name": "Python 3",
   "language": "python",
   "name": "python3"
  },
  "language_info": {
   "codemirror_mode": {
    "name": "ipython",
    "version": 3
   },
   "file_extension": ".py",
   "mimetype": "text/x-python",
   "name": "python",
   "nbconvert_exporter": "python",
   "pygments_lexer": "ipython3",
   "version": "3.7.6"
  }
 },
 "nbformat": 4,
 "nbformat_minor": 4
}
